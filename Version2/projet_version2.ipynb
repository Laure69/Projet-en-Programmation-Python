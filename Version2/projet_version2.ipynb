{
 "cells": [
  {
   "cell_type": "code",
   "execution_count": 1,
   "metadata": {},
   "outputs": [],
   "source": [
    "from main import DocCorpus\n",
    "from corpus import Corpus\n",
    "import ipywidgets as widgets\n",
    "from IPython.display import display\n",
    "from IPython.display import HTML"
   ]
  },
  {
   "cell_type": "markdown",
   "metadata": {},
   "source": [
    "### Implémentation d'un Moteur de Recherche Interactif pour l'Exploration de Corpus"
   ]
  },
  {
   "cell_type": "code",
   "execution_count": 6,
   "metadata": {},
   "outputs": [],
   "source": [
    "corpuscharger = Corpus(\"TestCorpus\")\n",
    "#Changer le .pkl en fonction du corpus que vous souhaitez charger\n",
    "c = corpuscharger.load('computer.pkl')\n",
    "init = c.construire_vocabulaire()"
   ]
  },
  {
   "cell_type": "code",
   "execution_count": 7,
   "metadata": {},
   "outputs": [
    {
     "data": {
      "application/vnd.jupyter.widget-view+json": {
       "model_id": "466cff1967fc44ff81bcca5bcd16b4a7",
       "version_major": 2,
       "version_minor": 0
      },
      "text/plain": [
       "Text(value='', placeholder='Entrez des mot-clefs :')"
      ]
     },
     "metadata": {},
     "output_type": "display_data"
    },
    {
     "data": {
      "application/vnd.jupyter.widget-view+json": {
       "model_id": "dc6300b231ad43799b505a1a362a0df5",
       "version_major": 2,
       "version_minor": 0
      },
      "text/plain": [
       "Button(description='Recherche', style=ButtonStyle())"
      ]
     },
     "metadata": {},
     "output_type": "display_data"
    },
    {
     "data": {
      "application/vnd.jupyter.widget-view+json": {
       "model_id": "0fa00be70c5b4b48a2a376e91d244f34",
       "version_major": 2,
       "version_minor": 0
      },
      "text/plain": [
       "Output()"
      ]
     },
     "metadata": {},
     "output_type": "display_data"
    }
   ],
   "source": [
    "qWidget = widgets.Text(value = '', placeholder ='Entrez des mot-clefs :')\n",
    "button = widgets.Button(description='Recherche')\n",
    "output = widgets.Output()\n",
    "\n",
    "def recherche_et_affichage(query):\n",
    "    res_recherche = c.recherche(query)\n",
    "    html_output = \"\"\n",
    "    for resultat in res_recherche.items():\n",
    "        index_doc = resultat[0]\n",
    "        doc = c.id2doc[index_doc]\n",
    "        html_output += f\"<p><b>Document : </b> {doc.titre}</p>\"\n",
    "        html_output += f\"<p><b>Date : </b> {doc.date}</p>\"\n",
    "        html_output += f\"<p><b>Source : </b> {doc.type}</p>\"\n",
    "        html_output += f\"<p><b>Contenu : </b> {doc.texte}</p>\"\n",
    "        html_output += f\"<p><b>URL : </b><a href='{doc.url}' target='_blank'> {doc.url}</a></p>\"\n",
    "        html_output += \"=\" * 50 + \"<br><br>\"\n",
    "    with output:\n",
    "        output.clear_output(wait=True)\n",
    "        display(HTML(html_output))\n",
    "        \n",
    "def on_button_click(b):\n",
    "    output.clear_output()\n",
    "    recherche_et_affichage(qWidget.value)\n",
    "\n",
    "button.on_click(on_button_click)\n",
    "display(qWidget, button, output)"
   ]
  }
 ],
 "metadata": {
  "kernelspec": {
   "display_name": "python",
   "language": "python",
   "name": "python3"
  },
  "language_info": {
   "codemirror_mode": {
    "name": "ipython",
    "version": 3
   },
   "file_extension": ".py",
   "mimetype": "text/x-python",
   "name": "python",
   "nbconvert_exporter": "python",
   "pygments_lexer": "ipython3",
   "version": "3.11.5"
  }
 },
 "nbformat": 4,
 "nbformat_minor": 2
}
