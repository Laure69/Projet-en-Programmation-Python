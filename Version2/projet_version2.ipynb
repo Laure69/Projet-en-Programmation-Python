{
 "cells": [
  {
   "cell_type": "code",
   "execution_count": 51,
   "metadata": {},
   "outputs": [],
   "source": [
    "from main import DocCorpus\n",
    "from corpus import Corpus\n",
    "import ipywidgets as widgets\n",
    "from IPython.display import display\n",
    "from IPython.display import HTML"
   ]
  },
  {
   "cell_type": "code",
   "execution_count": 54,
   "metadata": {},
   "outputs": [],
   "source": [
    "corpuscharger = Corpus(\"TestCorpus\")\n",
    "c = corpuscharger.load('orcas.pkl')\n",
    "init = c.construire_vocabulaire()\n",
    "\n"
   ]
  },
  {
   "cell_type": "code",
   "execution_count": 57,
   "metadata": {},
   "outputs": [
    {
     "data": {
      "application/vnd.jupyter.widget-view+json": {
       "model_id": "0fd88015e66546e1a32aca6b9bb21067",
       "version_major": 2,
       "version_minor": 0
      },
      "text/plain": [
       "Text(value='', placeholder='Entrez des mot-clefs :')"
      ]
     },
     "metadata": {},
     "output_type": "display_data"
    },
    {
     "data": {
      "application/vnd.jupyter.widget-view+json": {
       "model_id": "716072004bcd426680176da2b89cc60c",
       "version_major": 2,
       "version_minor": 0
      },
      "text/plain": [
       "Button(description='Recherche', style=ButtonStyle())"
      ]
     },
     "metadata": {},
     "output_type": "display_data"
    },
    {
     "data": {
      "application/vnd.jupyter.widget-view+json": {
       "model_id": "e9660c83dcb243b3ba78686e98d2d1b9",
       "version_major": 2,
       "version_minor": 0
      },
      "text/plain": [
       "Output()"
      ]
     },
     "metadata": {},
     "output_type": "display_data"
    },
    {
     "name": "stderr",
     "output_type": "stream",
     "text": [
      "c:\\Users\\theap\\anaconda3\\Lib\\site-packages\\scipy\\sparse\\_index.py:103: SparseEfficiencyWarning: Changing the sparsity structure of a csr_matrix is expensive. lil_matrix is more efficient.\n",
      "  self._set_intXint(row, col, x.flat[0])\n"
     ]
    }
   ],
   "source": [
    "qWidget = widgets.Text(value = '', placeholder ='Entrez des mot-clefs :')\n",
    "button = widgets.Button(description='Recherche')\n",
    "output = widgets.Output()\n",
    "\n",
    "def recherche_et_affichage(query):\n",
    "    res_recherche = c.recherche(query)\n",
    "    html_output = \"\"\n",
    "    for resultat in res_recherche.items():\n",
    "        index_doc = resultat[0]\n",
    "        doc = c.id2doc[index_doc]\n",
    "        html_output += f\"<p><b>Document : </b> {doc.titre}</p>\"\n",
    "        html_output += f\"<p><b>Date : </b> {doc.date}</p>\"\n",
    "        html_output += f\"<p><b>Source : </b> {doc.type}</p>\"\n",
    "        html_output += f\"<p><b>Contenu : </b> {doc.texte}</p>\"\n",
    "        html_output += f\"<p><b>URL : </b><a href='{doc.url}' target='_blank'> {doc.url}</a></p>\"\n",
    "        html_output += \"=\" * 50 + \"<br><br>\"\n",
    "    with output:\n",
    "        output.clear_output(wait=True)\n",
    "        display(HTML(html_output))\n",
    "\n",
    "\n",
    "def on_button_click(b):\n",
    "    output.clear_output()\n",
    "    recherche_et_affichage(qWidget.value)\n",
    "\n",
    "button.on_click(on_button_click)\n",
    "display(qWidget, button, output)"
   ]
  }
 ],
 "metadata": {
  "kernelspec": {
   "display_name": "python",
   "language": "python",
   "name": "python3"
  },
  "language_info": {
   "codemirror_mode": {
    "name": "ipython",
    "version": 3
   },
   "file_extension": ".py",
   "mimetype": "text/x-python",
   "name": "python",
   "nbconvert_exporter": "python",
   "pygments_lexer": "ipython3",
   "version": "3.11.4"
  }
 },
 "nbformat": 4,
 "nbformat_minor": 2
}
