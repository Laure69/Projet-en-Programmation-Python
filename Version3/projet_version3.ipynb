{
 "cells": [
  {
   "cell_type": "code",
   "execution_count": 1,
   "metadata": {},
   "outputs": [],
   "source": [
    "from main import DocCorpus\n",
    "from corpus import Corpus\n",
    "import ipywidgets as widgets\n",
    "from IPython.display import display\n",
    "from IPython.display import HTML\n",
    "from datetime import datetime\n",
    "import os"
   ]
  },
  {
   "cell_type": "code",
   "execution_count": 13,
   "metadata": {},
   "outputs": [
    {
     "data": {
      "application/vnd.jupyter.widget-view+json": {
       "model_id": "8e0d83b78ec64a739cd43546a0d88849",
       "version_major": 2,
       "version_minor": 0
      },
      "text/plain": [
       "VBox(children=(RadioButtons(description='Que voulez-vous faire ? ', options=('Créer un corpus', 'Charger un co…"
      ]
     },
     "metadata": {},
     "output_type": "display_data"
    },
    {
     "data": {
      "application/vnd.jupyter.widget-view+json": {
       "model_id": "d1889ab6962448d8aa5f8cdbd78efb49",
       "version_major": 2,
       "version_minor": 0
      },
      "text/plain": [
       "Button(description='Exécuter', style=ButtonStyle())"
      ]
     },
     "metadata": {},
     "output_type": "display_data"
    }
   ],
   "source": [
    "c = Corpus(\"Mon Corpus\")\n",
    "choix_action = widgets.RadioButtons(options=['Créer un corpus', 'Charger un corpus'], description='Que voulez-vous faire ? ')\n",
    "sujet_corpus = widgets.Text(description='Sujet du corpus :', disabled=False)\n",
    "nombre_articles = widgets.IntText(value=10, description='Nombre d\\'articles :', disabled=True)\n",
    "# Liste déroulante des corpus déjà disponibles, on ampute l'extension .pkl\n",
    "fichiers_pkl = [f[:-4] for f in os.listdir(\"all_corpus\") if f.endswith(\".pkl\")]\n",
    "chemin_corpus = widgets.Dropdown(options=fichiers_pkl,description='Sujet :',disabled=True,)\n",
    "# Conteneur pour regrouper les widgets\n",
    "conteneur_widgets = widgets.VBox([choix_action, sujet_corpus, nombre_articles, chemin_corpus])\n",
    "bouton_executer = widgets.Button(description='Exécuter')\n",
    "\n",
    "def on_choix_change(change,choix_action,sujet_corpus,nombre_articles,chemin_corpus):\n",
    "    if change['type'] == 'change' and change['name'] == 'value':\n",
    "        if choix_action.value == 'Créer un corpus':\n",
    "            sujet_corpus.disabled = False\n",
    "            nombre_articles.disabled = False\n",
    "            chemin_corpus.disabled = True\n",
    "        elif choix_action.value == 'Charger un corpus':\n",
    "            sujet_corpus.disabled = True\n",
    "            nombre_articles.disabled = True\n",
    "            chemin_corpus.disabled = False\n",
    "\n",
    "def update_dropdown():  # Mettre à jour la liste déroulante des corpus disponibles\n",
    "    fichiers_pkl = [f[:-4] for f in os.listdir(\"all_corpus\") if f.endswith(\".pkl\")]\n",
    "    chemin_corpus.options = fichiers_pkl\n",
    "\n",
    "def charger_corpus():\n",
    "    global query\n",
    "    global c\n",
    "    if choix_action.value == 'Créer un corpus':\n",
    "        query = sujet_corpus.value\n",
    "        nArticle = nombre_articles.value\n",
    "        DocCorpus(query, nArticle)\n",
    "    elif choix_action.value == 'Charger un corpus':\n",
    "        query = chemin_corpus.value  \n",
    "    c = c.load(\"all_corpus/\" + query +'.pkl')\n",
    "    init = c.construire_vocabulaire()\n",
    "\n",
    "def on_bouton_executer_click(b):\n",
    "    charger_corpus()\n",
    "    update_dropdown()\n",
    "\n",
    "# On observe les boutons radio pour déclencher la fonction on_choix_change\n",
    "choix_action.observe(lambda change: on_choix_change(change, choix_action, sujet_corpus, nombre_articles, chemin_corpus), names='value')\n",
    "bouton_executer.on_click(on_bouton_executer_click)\n",
    "\n",
    "display(conteneur_widgets)\n",
    "display(bouton_executer)\n"
   ]
  },
  {
   "cell_type": "code",
   "execution_count": 14,
   "metadata": {},
   "outputs": [
    {
     "data": {
      "application/vnd.jupyter.widget-view+json": {
       "model_id": "24e05582c34141b5b3fe77db61869495",
       "version_major": 2,
       "version_minor": 0
      },
      "text/plain": [
       "Text(value='', placeholder='Entrez des mots-clés :')"
      ]
     },
     "metadata": {},
     "output_type": "display_data"
    },
    {
     "data": {
      "application/vnd.jupyter.widget-view+json": {
       "model_id": "fc8006da31444a20991da667b75299d6",
       "version_major": 2,
       "version_minor": 0
      },
      "text/plain": [
       "Text(value='', placeholder=\"Entrez l'auteur :\")"
      ]
     },
     "metadata": {},
     "output_type": "display_data"
    },
    {
     "data": {
      "application/vnd.jupyter.widget-view+json": {
       "model_id": "9b6d3adb92424f91b6e7ab8981e213d8",
       "version_major": 2,
       "version_minor": 0
      },
      "text/plain": [
       "Dropdown(description='Source:', options=('Toutes les sources', 'Reddit', 'Arxiv'), value='Toutes les sources')"
      ]
     },
     "metadata": {},
     "output_type": "display_data"
    },
    {
     "data": {
      "application/vnd.jupyter.widget-view+json": {
       "model_id": "ff9b1ca8ca9e403d920ef9157816fb34",
       "version_major": 2,
       "version_minor": 0
      },
      "text/plain": [
       "DatePicker(value=None, description='Sélectionnez une date', step=1)"
      ]
     },
     "metadata": {},
     "output_type": "display_data"
    },
    {
     "data": {
      "application/vnd.jupyter.widget-view+json": {
       "model_id": "84514a481365479c8c83bfaa148174b5",
       "version_major": 2,
       "version_minor": 0
      },
      "text/plain": [
       "Button(description='Recherche', style=ButtonStyle())"
      ]
     },
     "metadata": {},
     "output_type": "display_data"
    },
    {
     "data": {
      "application/vnd.jupyter.widget-view+json": {
       "model_id": "ca553d1397354cdb885a6bf41a13e43e",
       "version_major": 2,
       "version_minor": 0
      },
      "text/plain": [
       "Output()"
      ]
     },
     "metadata": {},
     "output_type": "display_data"
    },
    {
     "name": "stderr",
     "output_type": "stream",
     "text": [
      "c:\\Users\\theap\\anaconda3\\Lib\\site-packages\\scipy\\sparse\\_index.py:103: SparseEfficiencyWarning: Changing the sparsity structure of a csr_matrix is expensive. lil_matrix is more efficient.\n",
      "  self._set_intXint(row, col, x.flat[0])\n"
     ]
    }
   ],
   "source": [
    "qWidget = widgets.Text(value='', placeholder='Entrez des mots-clés :')\n",
    "auteurWidget = widgets.Text(value='', placeholder='Entrez l\\'auteur :')\n",
    "sourceDropdown = widgets.Dropdown(\n",
    "    options=['Toutes les sources', 'Reddit', 'Arxiv'],\n",
    "    value='Toutes les sources',\n",
    "    description='Source:',\n",
    ")\n",
    "datePicker = widgets.DatePicker(\n",
    "    description='Sélectionnez une date',\n",
    "    disabled=False\n",
    ")\n",
    "button = widgets.Button(description='Recherche')\n",
    "output = widgets.Output()\n",
    "\n",
    "def recherche_et_affichage(keywords, auteur, source, selected_date):\n",
    "    res_recherche = c.recherche(keywords)\n",
    "    html_output = \"\"\n",
    "    for resultat in res_recherche.items():\n",
    "        index_doc = resultat[0]\n",
    "        doc = c.id2doc[index_doc]\n",
    "\n",
    "        if (source == 'Toutes les sources' or doc.type == source):\n",
    "            # Convertir la date en objet datetime au format 'YYYY/MM/DD'\n",
    "            doc_date = datetime.strptime(doc.date, '%Y/%m/%d').date()\n",
    "            # Comparer avec la date sélectionnée et l'auteur\n",
    "            if (selected_date is None or doc_date == selected_date) and (auteur.lower() in doc.auteur.lower()):\n",
    "                # Formate la date dans le format 'YYYY/MM/DD'\n",
    "                formatted_date = doc_date.strftime('%Y/%m/%d')\n",
    "                html_output += f\"<p><b>Document : </b> {doc.titre}</p>\"\n",
    "                html_output += f\"<p><b>Auteur : </b> {doc.auteur}</p>\"\n",
    "                html_output += f\"<p><b>Date : </b> {formatted_date}</p>\"\n",
    "                html_output += f\"<p><b>Source : </b> {doc.type}</p>\"\n",
    "                html_output += f\"<p><b>Contenu : </b> {doc.texte}</p>\"\n",
    "                html_output += f\"<p><b>URL : </b><a href='{doc.url}' target='_blank'> {doc.url}</a></p>\"\n",
    "                html_output += \"=\" * 50 + \"<br><br>\"\n",
    "\n",
    "    with output:\n",
    "        output.clear_output(wait=True)\n",
    "        display(HTML(html_output))\n",
    "\n",
    "def on_button_click(b):\n",
    "    output.clear_output()\n",
    "    recherche_et_affichage(qWidget.value, auteurWidget.value, sourceDropdown.value, datePicker.value)\n",
    "    c.__repr__\n",
    "\n",
    "button.on_click(on_button_click)\n",
    "display(qWidget, auteurWidget, sourceDropdown, datePicker, button, output)"
   ]
  }
 ],
 "metadata": {
  "kernelspec": {
   "display_name": "python",
   "language": "python",
   "name": "python3"
  },
  "language_info": {
   "codemirror_mode": {
    "name": "ipython",
    "version": 3
   },
   "file_extension": ".py",
   "mimetype": "text/x-python",
   "name": "python",
   "nbconvert_exporter": "python",
   "pygments_lexer": "ipython3",
   "version": "3.11.4"
  }
 },
 "nbformat": 4,
 "nbformat_minor": 2
}
