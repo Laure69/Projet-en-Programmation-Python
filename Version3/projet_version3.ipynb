{
 "cells": [
  {
   "cell_type": "code",
   "execution_count": 132,
   "metadata": {},
   "outputs": [],
   "source": [
    "from main import DocCorpus\n",
    "from corpus import Corpus\n",
    "import ipywidgets as widgets\n",
    "from IPython.display import display\n",
    "from IPython.display import HTML\n",
    "from datetime import datetime"
   ]
  },
  {
   "cell_type": "code",
   "execution_count": 133,
   "metadata": {},
   "outputs": [],
   "source": [
    "corpuscharger = Corpus(\"TestCorpus\")\n",
    "c = corpuscharger.load('biology.pkl')\n",
    "init = c.construire_vocabulaire()"
   ]
  },
  {
   "cell_type": "code",
   "execution_count": 110,
   "metadata": {},
   "outputs": [
    {
     "data": {
      "application/vnd.jupyter.widget-view+json": {
       "model_id": "00cddafb1e2d42c7a423614086b3c55a",
       "version_major": 2,
       "version_minor": 0
      },
      "text/plain": [
       "Text(value='', placeholder='Entrez des mot-clefs :')"
      ]
     },
     "metadata": {},
     "output_type": "display_data"
    },
    {
     "data": {
      "application/vnd.jupyter.widget-view+json": {
       "model_id": "df1469d91d494e1fb3e0e256dd898c93",
       "version_major": 2,
       "version_minor": 0
      },
      "text/plain": [
       "Button(description='Recherche', style=ButtonStyle())"
      ]
     },
     "metadata": {},
     "output_type": "display_data"
    },
    {
     "data": {
      "application/vnd.jupyter.widget-view+json": {
       "model_id": "110cea16e6144911a0e904e17a5cb4d7",
       "version_major": 2,
       "version_minor": 0
      },
      "text/plain": [
       "Output()"
      ]
     },
     "metadata": {},
     "output_type": "display_data"
    }
   ],
   "source": [
    "qWidget = widgets.Text(value = '', placeholder ='Entrez des mot-clefs :')\n",
    "button = widgets.Button(description='Recherche')\n",
    "output = widgets.Output()\n",
    "\n",
    "def recherche_et_affichage(query):\n",
    "    res_recherche = c.recherche(query)\n",
    "    html_output = \"\"\n",
    "    for resultat in res_recherche.items():\n",
    "        index_doc = resultat[0]\n",
    "        doc = c.id2doc[index_doc]\n",
    "        html_output += f\"<p><b>Document : </b> {doc.titre}</p>\"\n",
    "        html_output += f\"<p><b>Auteur : </b> {doc.auteur}</p>\"\n",
    "        html_output += f\"<p><b>Date : </b> {doc.date}</p>\"\n",
    "        html_output += f\"<p><b>Source : </b> {doc.type}</p>\"\n",
    "        html_output += f\"<p><b>Contenu : </b> {doc.texte}</p>\"\n",
    "        html_output += f\"<p><b>URL : </b><a href='{doc.url}' target='_blank'> {doc.url}</a></p>\"\n",
    "        html_output += \"=\" * 50 + \"<br><br>\"\n",
    "    with output:\n",
    "        output.clear_output(wait=True)\n",
    "        display(HTML(html_output))\n",
    "        \n",
    "def on_button_click(b):\n",
    "    output.clear_output()\n",
    "    recherche_et_affichage(qWidget.value)\n",
    "\n",
    "button.on_click(on_button_click)\n",
    "display(qWidget, button, output)"
   ]
  },
  {
   "cell_type": "code",
   "execution_count": 134,
   "metadata": {},
   "outputs": [
    {
     "data": {
      "application/vnd.jupyter.widget-view+json": {
       "model_id": "541b9b5749264b21a59dbb774f53f1a0",
       "version_major": 2,
       "version_minor": 0
      },
      "text/plain": [
       "Text(value='', placeholder='Entrez des mots-clés :')"
      ]
     },
     "metadata": {},
     "output_type": "display_data"
    },
    {
     "data": {
      "application/vnd.jupyter.widget-view+json": {
       "model_id": "d4036cc75b624ad286c766610c251478",
       "version_major": 2,
       "version_minor": 0
      },
      "text/plain": [
       "Text(value='', placeholder=\"Entrez l'auteur :\")"
      ]
     },
     "metadata": {},
     "output_type": "display_data"
    },
    {
     "data": {
      "application/vnd.jupyter.widget-view+json": {
       "model_id": "47ec1ee1ca024780b4ddeb9ad36d0ceb",
       "version_major": 2,
       "version_minor": 0
      },
      "text/plain": [
       "Dropdown(description='Source:', options=('Toutes les sources', 'Reddit', 'Arxiv'), value='Toutes les sources')"
      ]
     },
     "metadata": {},
     "output_type": "display_data"
    },
    {
     "data": {
      "application/vnd.jupyter.widget-view+json": {
       "model_id": "cec7bb21265b464580a1913636d0e439",
       "version_major": 2,
       "version_minor": 0
      },
      "text/plain": [
       "DatePicker(value=None, description='Sélectionnez une date', step=1)"
      ]
     },
     "metadata": {},
     "output_type": "display_data"
    },
    {
     "data": {
      "application/vnd.jupyter.widget-view+json": {
       "model_id": "1803842cda68469fb3d9e6388825924a",
       "version_major": 2,
       "version_minor": 0
      },
      "text/plain": [
       "Button(description='Recherche', style=ButtonStyle())"
      ]
     },
     "metadata": {},
     "output_type": "display_data"
    },
    {
     "data": {
      "application/vnd.jupyter.widget-view+json": {
       "model_id": "914d00383501401c9dd345f10445d114",
       "version_major": 2,
       "version_minor": 0
      },
      "text/plain": [
       "Output()"
      ]
     },
     "metadata": {},
     "output_type": "display_data"
    }
   ],
   "source": [
    "qWidget = widgets.Text(value='', placeholder='Entrez des mots-clés :')\n",
    "auteurWidget = widgets.Text(value='', placeholder='Entrez l\\'auteur :')\n",
    "sourceDropdown = widgets.Dropdown(\n",
    "    options=['Toutes les sources', 'Reddit', 'Arxiv'],\n",
    "    value='Toutes les sources',\n",
    "    description='Source:',\n",
    ")\n",
    "datePicker = widgets.DatePicker(\n",
    "    description='Sélectionnez une date',\n",
    "    disabled=False\n",
    ")\n",
    "button = widgets.Button(description='Recherche')\n",
    "output = widgets.Output()\n",
    "\n",
    "def recherche_et_affichage(query, auteur, source, selected_date):\n",
    "    res_recherche = c.recherche(query)\n",
    "\n",
    "    html_output = \"\"\n",
    "    for resultat in res_recherche.items():\n",
    "        index_doc = resultat[0]\n",
    "        doc = c.id2doc[index_doc]\n",
    "\n",
    "        if (source == 'Toutes les sources' or doc.type == source):\n",
    "            # Convertir la date en objet datetime au format 'YYYY/MM/DD'\n",
    "            doc_date = datetime.strptime(doc.date, '%Y/%m/%d').date()\n",
    "\n",
    "            # Comparer avec la date sélectionnée et l'auteur\n",
    "            if (selected_date is None or doc_date == selected_date) and (auteur.lower() in doc.auteur.lower()):\n",
    "                # Formate la date dans le format 'YYYY/MM/DD'\n",
    "                formatted_date = doc_date.strftime('%Y/%m/%d')\n",
    "\n",
    "                html_output += f\"<p><b>Document : </b> {doc.titre}</p>\"\n",
    "                html_output += f\"<p><b>Auteur : </b> {doc.auteur}</p>\"\n",
    "                html_output += f\"<p><b>Date : </b> {formatted_date}</p>\"\n",
    "                html_output += f\"<p><b>Source : </b> {doc.type}</p>\"\n",
    "                html_output += f\"<p><b>Contenu : </b> {doc.texte}</p>\"\n",
    "                html_output += f\"<p><b>URL : </b><a href='{doc.url}' target='_blank'> {doc.url}</a></p>\"\n",
    "                html_output += \"=\" * 50 + \"<br><br>\"\n",
    "\n",
    "    with output:\n",
    "        output.clear_output(wait=True)\n",
    "        display(HTML(html_output))\n",
    "\n",
    "def on_button_click(b):\n",
    "    output.clear_output()\n",
    "    recherche_et_affichage(qWidget.value, auteurWidget.value, sourceDropdown.value, datePicker.value)\n",
    "\n",
    "button.on_click(on_button_click)\n",
    "display(qWidget, auteurWidget, sourceDropdown, datePicker, button, output)"
   ]
  }
 ],
 "metadata": {
  "kernelspec": {
   "display_name": "python",
   "language": "python",
   "name": "python3"
  },
  "language_info": {
   "codemirror_mode": {
    "name": "ipython",
    "version": 3
   },
   "file_extension": ".py",
   "mimetype": "text/x-python",
   "name": "python",
   "nbconvert_exporter": "python",
   "pygments_lexer": "ipython3",
   "version": "3.11.5"
  }
 },
 "nbformat": 4,
 "nbformat_minor": 2
}
