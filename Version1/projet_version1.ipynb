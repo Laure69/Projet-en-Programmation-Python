{
 "cells": [
  {
   "cell_type": "code",
   "execution_count": 1,
   "metadata": {},
   "outputs": [],
   "source": [
    "from main import DocCorpus\n",
    "from corpus import Corpus\n",
    "import ipywidgets as widgets"
   ]
  },
  {
   "cell_type": "markdown",
   "metadata": {},
   "source": [
    "###   Interface Utilisateur pour la Recherche dans le Corpus : Saisie des Paramètres et Lancement de la Recherche"
   ]
  },
  {
   "cell_type": "code",
   "execution_count": 2,
   "metadata": {},
   "outputs": [
    {
     "data": {
      "application/vnd.jupyter.widget-view+json": {
       "model_id": "12e6b7eac8da48b98be9b06d20cc0572",
       "version_major": 2,
       "version_minor": 0
      },
      "text/plain": [
       "Text(value='', placeholder='Mot-clef :')"
      ]
     },
     "metadata": {},
     "output_type": "display_data"
    },
    {
     "data": {
      "application/vnd.jupyter.widget-view+json": {
       "model_id": "8fab8ccc5b5644ecb86912712e119062",
       "version_major": 2,
       "version_minor": 0
      },
      "text/plain": [
       "IntText(value=0, description=\"Nombre d'articles :\")"
      ]
     },
     "metadata": {},
     "output_type": "display_data"
    },
    {
     "data": {
      "application/vnd.jupyter.widget-view+json": {
       "model_id": "505d4c07424f4cf1943bb8922e04bcdb",
       "version_major": 2,
       "version_minor": 0
      },
      "text/plain": [
       "Button(description='Ok', style=ButtonStyle())"
      ]
     },
     "metadata": {},
     "output_type": "display_data"
    }
   ],
   "source": [
    "qWidget = widgets.Text(value = '', placeholder ='Mot-clef :')\n",
    "display(qWidget)\n",
    "nbWidget = widgets.IntText(description='Nombre d\\'articles :')\n",
    "display(nbWidget)\n",
    "button = widgets.Button(description='Ok')\n",
    "display(button)"
   ]
  },
  {
   "cell_type": "code",
   "execution_count": 3,
   "metadata": {},
   "outputs": [
    {
     "name": "stdout",
     "output_type": "stream",
     "text": [
      "Mot-clef : paris\n",
      "Nombre d'articles : 6\n"
     ]
    }
   ],
   "source": [
    "query = qWidget.value\n",
    "print(f'Mot-clef : {query}')\n",
    "nbArticle = nbWidget.value\n",
    "print(f'Nombre d\\'articles : {nbArticle}')\n",
    "DocCorpus(query, nbArticle)"
   ]
  },
  {
   "cell_type": "code",
   "execution_count": 5,
   "metadata": {},
   "outputs": [
    {
     "name": "stdout",
     "output_type": "stream",
     "text": [
      "Artin groups of spherical type up to isomorphism, par Luis Paris Co-Auteurs : [], Source: Arxiv\n",
      "\n",
      "Artin monoids inject in their groups, par L. Paris Co-Auteurs : [], Source: Arxiv\n",
      "\n",
      "Convexity of parabolic subgroups in Artin groups, par Ruth Charney Co-Auteurs : ['Luis Paris'], Source: Arxiv\n",
      "\n",
      "Disparition il y’a 5 jours au Glazart, par w3yland, Source: Reddit\n",
      "Nombre de commentaires : 26\n",
      "\n",
      "FORUM LIBRE : TOURISTS AND RESIDENTS, ASK YOUR COMMON QUESTIONS IN THIS WEEKLY THREAD : Open Forum -- 07, January, 2024, par RichardHenri, Source: Reddit\n",
      "Nombre de commentaires : 23\n",
      "\n",
      "Jacobian Newton Polyhedra and equisingularity, par Bernard Teissier Co-Auteurs : [], Source: Arxiv\n",
      "\n",
      "Master à Paris 1 en tant qu'étrangère?, par maronimaedchen, Source: Reddit\n",
      "Nombre de commentaires : 0\n",
      "\n",
      "Ou acheter du fil/laine deuxième main ?, par hallo_to_you, Source: Reddit\n",
      "Nombre de commentaires : 2\n",
      "\n",
      "Poly-freeness of even Artin groups of FC type, par Ruben Blasco-Garcia Co-Auteurs : ['Conchita Martinez-Perez', 'Luis Paris'], Source: Arxiv\n",
      "\n",
      "Small index subgroups of the mapping class group, par Luis Paris Co-Auteurs : [], Source: Arxiv\n",
      "\n",
      "Terror threat on Paris Olympics - where to report?, par lriemann, Source: Reddit\n",
      "Nombre de commentaires : 36\n",
      "\n"
     ]
    }
   ],
   "source": [
    "# Chargement du corpus depuis le fichier binaire\n",
    "corpuscharger = Corpus(\"TestCorpus\")\n",
    "c = corpuscharger.load(query+'.pkl')\n",
    "\n",
    "print(repr(c))"
   ]
  }
 ],
 "metadata": {
  "kernelspec": {
   "display_name": "python",
   "language": "python",
   "name": "python3"
  },
  "language_info": {
   "codemirror_mode": {
    "name": "ipython",
    "version": 3
   },
   "file_extension": ".py",
   "mimetype": "text/x-python",
   "name": "python",
   "nbconvert_exporter": "python",
   "pygments_lexer": "ipython3",
   "version": "3.11.5"
  }
 },
 "nbformat": 4,
 "nbformat_minor": 2
}
