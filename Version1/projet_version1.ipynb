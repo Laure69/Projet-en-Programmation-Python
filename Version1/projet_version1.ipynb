{
 "cells": [
  {
   "cell_type": "code",
   "execution_count": 34,
   "metadata": {},
   "outputs": [],
   "source": [
    "from main import DocCorpus\n",
    "from corpus import Corpus\n",
    "import ipywidgets as widgets"
   ]
  },
  {
   "cell_type": "code",
   "execution_count": 37,
   "metadata": {},
   "outputs": [
    {
     "data": {
      "application/vnd.jupyter.widget-view+json": {
       "model_id": "d081571360414fc49183f26aa797a598",
       "version_major": 2,
       "version_minor": 0
      },
      "text/plain": [
       "Text(value='', description='Mot-clef :')"
      ]
     },
     "metadata": {},
     "output_type": "display_data"
    },
    {
     "data": {
      "application/vnd.jupyter.widget-view+json": {
       "model_id": "07e4270370d240f880f97aa1930aff66",
       "version_major": 2,
       "version_minor": 0
      },
      "text/plain": [
       "IntText(value=0, description=\"Nombre d'articles :\")"
      ]
     },
     "metadata": {},
     "output_type": "display_data"
    },
    {
     "data": {
      "application/vnd.jupyter.widget-view+json": {
       "model_id": "650554f474be4446bb1c09a53fe3700e",
       "version_major": 2,
       "version_minor": 0
      },
      "text/plain": [
       "Button(description='Ok', style=ButtonStyle())"
      ]
     },
     "metadata": {},
     "output_type": "display_data"
    }
   ],
   "source": [
    "qWidget = widgets.Text(description='Mot-clef :')\n",
    "display(qWidget)\n",
    "nbWidget = widgets.IntText(description='Nombre d\\'articles :')\n",
    "display(nbWidget)\n",
    "button = widgets.Button(description='Ok')\n",
    "display(button)"
   ]
  },
  {
   "cell_type": "code",
   "execution_count": 38,
   "metadata": {},
   "outputs": [
    {
     "name": "stdout",
     "output_type": "stream",
     "text": [
      "Mot-clef : france\n",
      "Nombre d'articles : 3\n"
     ]
    }
   ],
   "source": [
    "query = qWidget.value\n",
    "print(f'Mot-clef : {query}')\n",
    "nbArticle = nbWidget.value\n",
    "print(f'Nombre d\\'articles : {nbArticle}')\n",
    "DocCorpus(query, nbArticle)"
   ]
  },
  {
   "cell_type": "code",
   "execution_count": 39,
   "metadata": {},
   "outputs": [
    {
     "name": "stdout",
     "output_type": "stream",
     "text": [
      "An Optimised Flow for Futures: From Theory to Practice, par Nicolas Chappe Co-Auteurs : ['Ludovic Henrio', 'Amaury Maillé', 'Matthieu Moy', 'Hadrien Renaud'], Source: Arxiv\n",
      "\n",
      "Dimanche Autopromo - 2024-01-07, par AutoModerator, Source: Reddit\n",
      "Nombre de commentaires : 8\n",
      "\n",
      "Forum Libre - 2024-01-07, par AutoModerator, Source: Reddit\n",
      "Nombre de commentaires : 89\n",
      "\n",
      "Influence of Magnetic Field on Effective Electron-Electron Interactions  in a Copper Wire, par A. Anthore Co-Auteurs : ['F. Pierre', 'H. Pothier', 'D. Esteve', 'M. -H. Devoret'], Source: Arxiv\n",
      "\n",
      "Microwave probes Dipole Blockade and van der Waals Forces in a Cold  Rydberg Gas, par R. Celistrino Teixeira Co-Auteurs : ['C. Hermann-Avigliano', 'Thanh Long Nguyen', 'T. Cantat-Moltrecht', 'Jean-Michel Raimond', 'S. Haroche', 'S. Gleyzes', 'M. Brune'], Source: Arxiv\n",
      "\n",
      "Vous mangez des champignons \"français\" provenant de Chine ou de Pologne., par Gaytrude, Source: Reddit\n",
      "Nombre de commentaires : 53\n",
      "\n"
     ]
    }
   ],
   "source": [
    "# Chargement du corpus depuis le fichier binaire\n",
    "corpuscharger = Corpus(\"TestCorpus\")\n",
    "c = corpuscharger.load('corpus.pkl')\n",
    "\n",
    "print(repr(c))"
   ]
  }
 ],
 "metadata": {
  "kernelspec": {
   "display_name": "python",
   "language": "python",
   "name": "python3"
  },
  "language_info": {
   "codemirror_mode": {
    "name": "ipython",
    "version": 3
   },
   "file_extension": ".py",
   "mimetype": "text/x-python",
   "name": "python",
   "nbconvert_exporter": "python",
   "pygments_lexer": "ipython3",
   "version": "3.11.5"
  }
 },
 "nbformat": 4,
 "nbformat_minor": 2
}
